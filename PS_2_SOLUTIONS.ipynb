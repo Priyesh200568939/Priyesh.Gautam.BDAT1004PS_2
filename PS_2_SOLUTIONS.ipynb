{
  "metadata": {
    "kernelspec": {
      "name": "python",
      "display_name": "Python (Pyodide)",
      "language": "python"
    },
    "language_info": {
      "codemirror_mode": {
        "name": "python",
        "version": 3
      },
      "file_extension": ".py",
      "mimetype": "text/x-python",
      "name": "python",
      "nbconvert_exporter": "python",
      "pygments_lexer": "ipython3",
      "version": "3.8"
    }
  },
  "nbformat_minor": 4,
  "nbformat": 4,
  "cells": [
    {
      "cell_type": "markdown",
      "source": "## PROBLEM SET 2 SOLUTIONS:\nBelow are the 9 questions of PROBLEM SET 2 with their answers provided consecutively. ",
      "metadata": {}
    },
    {
      "cell_type": "markdown",
      "source": "# QUESTION 1:\nConsider the following Python module:\na = 0\ndef b():\nglobal a\na = c(a)\ndef c(a):\nreturn a + 2\nAfter importing the module into the interpreter, you execute:\n>>> b()\n>>> b()\n>>> b()\n>>> a\n?\nWhat value is displayed when the last expression (a) is evaluated? Explain your\nanswer by indicating what happens in every executed statement.",
      "metadata": {}
    },
    {
      "cell_type": "code",
      "source": "# Answer to question 1:\n\n# Code given in the example is given below:\na = 0\n\ndef b():\n    global a\n    a = c(a)\n\ndef c(a):\n    return a + 2\n\n# Execution sequence is also provided below\nb()\nb()\nb()\n\n# Printing the final value of a\nprint(a)\n",
      "metadata": {
        "trusted": true
      },
      "outputs": [
        {
          "name": "stdout",
          "text": "6\n",
          "output_type": "stream"
        }
      ],
      "execution_count": 1
    },
    {
      "cell_type": "markdown",
      "source": "# Answer explanation for question 1:\nThe following execution will result in the value of \"a\" as 6. This can be described in the following scenario below:\n Here, by analyzing the question we can be clarified with the following steps:\n 1. A global variable a initialized to 0.\n 2. A function b that modifies the global variable a using another function c.\n 3. A function c that takes an argument a and returns a + 2.\n\nNow, considering the execution:\n- First Call: We have global variable \"a\" which is pre-defined variable and then it is assigned with a = c(a) which calls the function c with the current value of a (which is 0), after that when the function c(a) is executed in the first function call it returns \"0+2\" which is 2.\n- Second Call: Considering the latest value of a is 2 due to the first function call, the execution of c(a) returns \"2+2\" which is 4. Now the current value of a after the second execution is 4.\n- Third Call: Repeating the previous function call stack with the latest value of a as 4, the execution of c(a) will give the final value of \"a\" as 6.\n\nhence this scenario can be considered as a simple example to define the functional call stack in python ecosystem.",
      "metadata": {}
    },
    {
      "cell_type": "markdown",
      "source": "# QUESTION 2:\nFunction fileLength(), given to you, takes the name of a file as input and returns\nthe length of the file:\n>>> fileLength('midterm.py')\n284\n>>> fileLength('idterm.py')\nTraceback (most recent call last):\nFile \"<pyshell#34>\", line 1, in <module>\nfileLength('idterm.py')\nFile \"/Users/me/midterm.py\", line 3, in fileLength\ninfile = open(filename)\nFileNotFoundError: [Errno 2] No such file or directory:\n'idterm.py'\nAs shown above, if the file cannot be found by the interpreter or if it cannot be read\nas a text file, an exception will be raised. Modify function fileLength() so that a\nfriendly message is printed instead:\n>>> fileLength('midterm.py')\n358\n>>> fileLength('idterm.py')\nFile idterm.py not found.",
      "metadata": {}
    },
    {
      "cell_type": "code",
      "source": "# ANSWER TO QUESTION 2: \n# Hence the updated code to change the file name to a simple friendly message is given below:\n\ndef file_length(file_name):\n    try:\n        file = open(file_name)\n        contents = file.read()\n        file.close()\n        print(len(contents))\n    except FileNotFoundError:\n        print(f\"File {file_name} not found.\")\n\n# Here the file_name variable is used in the FileNotFoundError block in order to display the error message to the user.",
      "metadata": {
        "trusted": true
      },
      "outputs": [],
      "execution_count": 5
    },
    {
      "cell_type": "markdown",
      "source": "# QUESTION 3: \nWrite a class named Marsupial that can be used as shown below:\n>>> m = Marsupial()\n>>> m.put_in_pouch('doll')\n>>> m.put_in_pouch('firetruck')\n>>> m.put_in_pouch('kitten')\n>>> m.pouch_contents()\n['doll', 'firetruck', 'kitten']\n\nNow write a class named Kangaroo as a subclass of Marsupial that inherits all the\nattributes of Marsupial and also:\na. extends the Marsupial __init__ constructor to take, as input, the\ncoordinates x and y of the Kangaroo object,\nb. supports method jump that takes number values dx and dy as input and\nmoves the kangaroo by dx units along the x-axis and by dy units along the y-\naxis, and\nc. overloads the __str__ operator so it behaves as shown below.\n>>> k = Kangaroo(0,0)\n>>> print(k)\nI am a Kangaroo located at coordinates (0,0)\n>>> k.put_in_pouch('doll')\n>>> k.put_in_pouch('firetruck')\n>>> k.put_in_pouch('kitten')\n>>> k.pouch_contents()\n['doll', 'firetruck', 'kitten']\n>>> k.jump(1,0)\n>>> k.jump(1,0)\n>>> k.jump(1,0)\n>>> print(k)\nI am a Kangaroo located at coordinates (3,0)",
      "metadata": {}
    },
    {
      "cell_type": "code",
      "source": "# Answer to Question 3:\n# here, we have two class one is Marsupial which is a parent class and Kangaroo which is the subclass of Marsupial, the requirements metuined in the question are given below:\n\n# Definition of the Marsupial class\n# Here we have initialized empty list named \"self.pouch\" and two methods \"put_in_pouch\" and \"pouch_contents\"\nclass Marsupial:\n    def __init__(self):\n        self.pouch = []\n\n    def put_in_pouch(self, item):\n        self.pouch.append(item)\n\n    def pouch_contents(self):\n        return self.pouch\n\n# Definition of the Kangaroo class as a subclass of Marsupial\n# Here we have defined two attributes by inheriting the Marsupial class and a method named \"jump\"\nclass Kangaroo(Marsupial):\n    def __init__(self, x, y):\n        super().__init__()  # Initialize the Marsupial part of Kangaroo\n        self.x = x\n        self.y = y\n\n    def jump(self, dx, dy):\n        self.x += dx\n        self.y += dy\n\n    def __str__(self):\n        return f\"I am a Kangaroo located at coordinates ({self.x},{self.y})\"\n\n# Below is the execution portion of the code\nk = Kangaroo(0, 0)\nprint(k)  # Output: I am a Kangaroo located at coordinates (0,0)\nk.put_in_pouch('doll')\nk.put_in_pouch('firetruck')\nk.put_in_pouch('kitten')\nprint(k.pouch_contents())  # Output: ['doll', 'firetruck', 'kitten']\nk.jump(1, 0)\nk.jump(1, 0)\nk.jump(1, 0)\nprint(k)  # Output: I am a Kangaroo located at coordinates (3,0)\n",
      "metadata": {
        "trusted": true
      },
      "outputs": [
        {
          "name": "stdout",
          "text": "I am a Kangaroo located at coordinates (0,0)\n['doll', 'firetruck', 'kitten']\nI am a Kangaroo located at coordinates (3,0)\n",
          "output_type": "stream"
        }
      ],
      "execution_count": 7
    },
    {
      "cell_type": "markdown",
      "source": "# QUESTION 4:\nWrite function collatz() that takes a positive integer x as input and prints the\nCollatz sequence starting at x. A Collatz sequence is obtained by repeatedly applying\nthis rule to the previous number x in the sequence:\nx={\n𝑥/2\n3𝑥 + 1\n𝑖𝑓 𝑥 𝑖𝑠 𝑒𝑣𝑒𝑛\n𝑖𝑓 𝑥 𝑖𝑠 𝑜𝑑𝑑\nYour function should stop when the sequence gets to number 1. Your\nimplementation must be recursive, without any loops.\n\nThe execution example sequence is given below:\n>>> collatz(1)\n1\n>>> collatz(10)\n10\n5\n16\n8\n4\n2\n1\n",
      "metadata": {}
    },
    {
      "cell_type": "code",
      "source": "# Answer to Question 4:\n\n# The recursive function of collatz() following the requirements is given below:\n\ndef collatz(x):\n    print(x)\n    if x == 1:\n        return\n    elif x % 2 == 0:\n        collatz(x // 2)\n    else:\n        collatz(3 * x + 1)\n\n# The execution portion is as mentioned:\nprint(\"This is the execution when using 1:\")\ncollatz(1)\n\nprint(\"This is the execution when using 10:\")\ncollatz(10)\n\n",
      "metadata": {
        "trusted": true
      },
      "outputs": [
        {
          "name": "stdout",
          "text": "This is the execution when using 1:\n1\nThis is the execution when using 10:\n10\n5\n16\n8\n4\n2\n1\n",
          "output_type": "stream"
        }
      ],
      "execution_count": 10
    },
    {
      "cell_type": "markdown",
      "source": "# Question 5:\nWrite a recursive method binary() that takes a non-negative\ninteger n and prints the binary representation of integer n.\n>>> binary(0)\n0\n>>> binary(1)\n1\n>>> binary(3)\n11\n>>> binary(9)\n1001",
      "metadata": {}
    },
    {
      "cell_type": "code",
      "source": "# Answer to question 5:\n\n# Here the recursive method binary() is given below:\n\ndef binary(n):\n    if n < 2:\n        print(n, end=\"\")\n    else:\n        binary(n // 2)\n        print(n % 2, end=\"\")\n\n# The execution portion is mentioned below:\nbinary(0)\n# Output: 0 \n\nbinary(1)\n# Output: 1 \n\nbinary(3)\n# Output: 1 1 \n\nbinary(9)\n# Output: 1 0 0 1 \n\n",
      "metadata": {
        "trusted": true
      },
      "outputs": [
        {
          "name": "stdout",
          "text": "01111001",
          "output_type": "stream"
        }
      ],
      "execution_count": 17
    },
    {
      "cell_type": "markdown",
      "source": "# QUESTION 6:\nQuestion 6\nImplement a class named HeadingParser that can be used to parse an HTML document, and retrieve and print all the headings in the document. You should implement your class as a subclass of HTMLParser, defined in Standard Library module html.parser. When fed a string containing HTML code, your class should print the headings, one per line and in the order in which they appear in the document. Each heading should be indented as follows: an h1 heading should have indentation 0, and h2 heading should have indentation 1, etc. Test your\nimplementation using w3c.html.\n>>> infile = open('w3c.html')\n>>> content = infile.read()\n>>> infile.close()\n>>> hp = HeadingParser()\n>>> hp.feed(content)\nW3C Mission\nPrinciples",
      "metadata": {}
    },
    {
      "cell_type": "code",
      "source": "# Answer to Question 6:\n# Implementation of the HeadingParser Class:\n\nfrom html.parser import HTMLParser\n\nclass HeadingParser(HTMLParser):\n    def __init__(self):\n        super().__init__()\n        self.in_heading = False\n        self.heading_level = 0\n\n    def handle_starttag(self, tag, attrs):\n        # Check if the tag is a heading (h1, h2, ..., h6)\n        if tag in ['h1', 'h2', 'h3', 'h4', 'h5', 'h6']:\n            self.in_heading = True\n            self.heading_level = int(tag[1])  # Extract heading level from tag\n\n    def handle_endtag(self, tag):\n        # Reset the heading flag when exiting a heading tag\n        if tag in ['h1', 'h2', 'h3', 'h4', 'h5', 'h6']:\n            self.in_heading = False\n\n    def handle_data(self, data):\n        # Print heading data with indentation if in a heading\n        if self.in_heading:\n            print(\" \" * (self.heading_level - 1) + data.strip())\n\n# Below is the testing for the HeadingParser with the provided content\n\n# Reading the contents from the html file \"w3C.html\"\n\ninfile = open('w3c.html')\ncontent = infile.read()\ninfile.close()\n\nhp = HeadingParser()\nhp.feed(content)\n",
      "metadata": {
        "trusted": true
      },
      "outputs": [
        {
          "name": "stdout",
          "text": "W3C Mission\n Principles\n",
          "output_type": "stream"
        }
      ],
      "execution_count": 28
    },
    {
      "cell_type": "markdown",
      "source": "# QUESTION 7: \nImplement recursive function webdir() that takes as input: a URL (as a string) and\nnon-negative integers depth and indent. Your function should visit every web\npage reachable from the starting URL web page in depth clicks or less, and print\neach web page's URL. As shown below, indentation, specified by indent, should\nbe used to indicate the depth of a URL.\n>>>\nwebdir('http://reed.cs.depaul.edu/lperkovic/csc242/test1.html'\n, 2, 0)\nhttp://reed.cs.depaul.edu/lperkovic/csc242/test1.html\nhttp://reed.cs.depaul.edu/lperkovic/csc242/test2.html\nhttp://reed.cs.depaul.edu/lperkovic/csc242/test4.html\nhttp://reed.cs.depaul.edu/lperkovic/csc242/test3.html\nhttp://reed.cs.depaul.edu/lperkovic/csc242/test4.html",
      "metadata": {}
    },
    {
      "cell_type": "code",
      "source": "# Answer to question 7:\n\nimport requests\nfrom bs4 import BeautifulSoup\n\ndef webdir(url, depth, indent):\n    # Print the current URL with the specified indentation\n    print(\" \" * indent + url)\n    \n    # Stop recursion if depth is zero\n    if depth == 0:\n        return\n    \n    try:\n        # Fetch the page content\n        response = requests.get(url)\n        response.raise_for_status()  # Check for request errors\n        soup = BeautifulSoup(response.text, 'html.parser')\n        \n        # Find all links on the page\n        for link in soup.find_all('a', href=True):\n            href = link.get('href')\n            # Convert relative URLs to absolute\n            full_url = requests.compat.urljoin(url, href)\n            # Recurse with decreased depth and increased indentation\n            webdir(full_url, depth - 1, indent + 2)\n    except requests.exceptions.RequestException as e:\n        print(f\"Could not retrieve page {url}: {e}\")\n\n# Execution portion is given below:\n# Since the web-link is currently on the state of \"HTTP STATUS 404 - NOT FOUND\" the execution could not be created as desired\n\nwebdir('http://reed.cs.depaul.edu/lperkovic/csc242/test1.html', 2, 0)\n",
      "metadata": {
        "trusted": true
      },
      "outputs": [
        {
          "name": "stdout",
          "text": "http://reed.cs.depaul.edu/lperkovic/csc242/test1.html\nCould not retrieve page http://reed.cs.depaul.edu/lperkovic/csc242/test1.html: ('Connection aborted.', HTTPException(\"Failed to execute 'send' on 'XMLHttpRequest': Failed to load 'http://reed.cs.depaul.edu/lperkovic/csc242/test1.html'.\"))\n",
          "output_type": "stream"
        }
      ],
      "execution_count": 22
    },
    {
      "cell_type": "markdown",
      "source": "# QUESTION 8:\nWrite SQL queries on the below database table that return:\na) All the temperature data.\nb) All the cities, but without repetition.\nc) All the records for India.\nd) All the Fall records.\ne) The city, country, and season for which the average rainfall is between 200\nand 400 millimeters.\nf) The city and country for which the average Fall temperature is above 20\ndegrees, in increasing temperature order.\ng) The total annual rainfall for Cairo.\nh) The total rainfall for each season.\n\nGiven table:\n| City         | Country         | Season  | Temperature (°C) | Rainfall (mm) |\n|--------------|-----------------|---------|-------------------|---------------|\n| Mumbai       | India           | Winter  | 24.8             | 5.9           |\n| Mumbai       | India           | Spring  | 28.4             | 16.2          |\n| Mumbai       | India           | Summer  | 27.9             | 549.4         |\n| Mumbai       | India           | Fall    | 27.6             | 346.0         |\n| London       | United Kingdom  | Winter  | 4.2              | 207.7         |\n| London       | United Kingdom  | Spring  | 8.3              | 169.6         |\n| London       | United Kingdom  | Summer  | 15.7             | 157.0         |\n| London       | United Kingdom  | Fall    | 10.4             | 218.5         |\n| Cairo        | Egypt           | Winter  | 13.6             | 16.5          |\n| Cairo        | Egypt           | Spring  | 20.7             | 6.5           |\n| Cairo        | Egypt           | Summer  | 27.7             | 0.1           |\n| Cairo        | Egypt           | Fall    | 22.2             | 4.5           |\n",
      "metadata": {}
    },
    {
      "cell_type": "code",
      "source": "# ANSWER TO QUESTION 8:\nConsidering the table is named as \"Weather\", the respective SQL queries is given below:\n\na.) All temperatures data: \nSELECT Temperature FROM Weather;\n\nb.) All the cities, but without repition:\nSELECT DISTINCT City FROM Weather;\n\nc.) All the records for India.\nSELECT * FROM Weather WHERE Country = 'India';\n\nd.) All the Fall records:\nSELECT * FROM Weather WHERE Season = 'Fall';\n\ne.) The city, country, and season for which the average rainfall is between 200 and 400 millimeters:\nSELECT City, Country, Season \nFROM Weather \nGROUP BY City, Country, Season \nHAVING AVG(Rainfall) BETWEEN 200 AND 400;\n\nf.) The city and country for which the average Fall temperature is above 20 degrees, in increasing temperature order:\nSELECT City, Country \nFROM Weather \nWHERE Season = 'Fall' \nGROUP BY City, Country \nHAVING AVG(Temperature) > 20 \nORDER BY AVG(Temperature) ASC;\n\ng.) The total annual rainfall for Cairo:\nSELECT SUM(Rainfall) AS Total_Annual_Rainfall \nFROM Weather \nWHERE City = 'Cairo';\n\nh.) The total rainfall for each season:\nSELECT Season, SUM(Rainfall) AS Total_Rainfall \nFROM Weather \nGROUP BY Season;\n",
      "metadata": {
        "trusted": true
      },
      "outputs": [],
      "execution_count": null
    },
    {
      "cell_type": "markdown",
      "source": "# QUESTION 9:\nSuppose list words is defined as follows:\n>>> words = ['The', 'quick', 'brown', 'fox', 'jumps', 'over',\n'the', 'lazy', 'dog']\n\nWrite list comprehension expressions that use list words and generate the following\nlists:\na) ['THE', 'QUICK', 'BROWN', 'FOX', 'JUMPS', 'OVER', 'THE',\n'LAZY', 'DOG']\n\nb) ['the', 'quick', 'brown', 'fox', 'jumps', 'over', 'the',\n'lazy', 'dog']\n\nc) [3, 5, 5, 3, 5, 4, 3, 4, 3] (the list of lengths of words in list\nwords).\n\nd) [['THE', 'the', 3], ['QUICK', 'quick', 5], ['BROWN',\n'brown', 5], ['FOX', 'fox', 3], ['JUMPS', 'jumps', 5],\n['OVER', 'over', 4], ['THE', 'the', 3], ['LAZY', 'lazy',\n4], ['DOG', 'dog', 3]] (the list containing a list for every word of list\nwords, where each list contains the word in uppercase and lowercase and the\nlength of the word.)\n\ne) ['The', 'quick', 'brown', 'fox', 'jumps', 'over', 'the',\n'lazy', 'dog'] (the list of words in list words containing 4 or more\ncharacters.)",
      "metadata": {}
    },
    {
      "cell_type": "code",
      "source": "# Answer to QUESTION 9:\n\n# Given word list:\nwords = ['The', 'quick', 'brown', 'fox', 'jumps', 'over', 'the', 'lazy', 'dog']\n\n# a) Words to uppercase\na = [word.upper() for word in words]\nprint(a)\n\n# b) Words to lowercase\nb = [word.lower() for word in words]\nprint(b)\n\n# c) List of lengths of each word\nc = [len(word) for word in words]\nprint(c)\n\n# d) List containing [uppercase, lowercase, length] for each word\nd = [[word.upper(), word.lower(), len(word)] for word in words]\nprint(d)\n\n# e) Words containing 4 or more characters\ne = [word for word in words if len(word) >= 4]\nprint(e)\n",
      "metadata": {
        "trusted": true
      },
      "outputs": [
        {
          "name": "stdout",
          "text": "['THE', 'QUICK', 'BROWN', 'FOX', 'JUMPS', 'OVER', 'THE', 'LAZY', 'DOG']\n['the', 'quick', 'brown', 'fox', 'jumps', 'over', 'the', 'lazy', 'dog']\n[3, 5, 5, 3, 5, 4, 3, 4, 3]\n[['THE', 'the', 3], ['QUICK', 'quick', 5], ['BROWN', 'brown', 5], ['FOX', 'fox', 3], ['JUMPS', 'jumps', 5], ['OVER', 'over', 4], ['THE', 'the', 3], ['LAZY', 'lazy', 4], ['DOG', 'dog', 3]]\n['quick', 'brown', 'jumps', 'over', 'lazy']\n",
          "output_type": "stream"
        }
      ],
      "execution_count": 26
    },
    {
      "cell_type": "markdown",
      "source": "# Hence, this concludes the Problem Set 2.\n# Thankyou for all the guidance and support.",
      "metadata": {}
    }
  ]
}